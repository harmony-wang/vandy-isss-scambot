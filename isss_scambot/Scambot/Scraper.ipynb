{
 "cells": [
  {
   "cell_type": "code",
   "execution_count": null,
   "id": "07aee372",
   "metadata": {},
   "outputs": [],
   "source": [
    "pip install requests beautifulsoup4"
   ]
  },
  {
   "cell_type": "code",
   "execution_count": 3,
   "id": "18e9ddf9",
   "metadata": {},
   "outputs": [
    {
     "name": "stdout",
     "output_type": "stream",
     "text": [
      "✅ Vectorstore created and saved in 'scam_safety/'\n"
     ]
    }
   ],
   "source": [
    "import requests\n",
    "from bs4 import BeautifulSoup\n",
    "from langchain_core.documents import Document\n",
    "from langchain_community.vectorstores import FAISS\n",
    "from langchain_openai import OpenAIEmbeddings\n",
    "\n",
    "# Scrape the site\n",
    "url = \"https://www.vanderbilt.edu/isss/scam-safety/\"\n",
    "response = requests.get(url)\n",
    "soup = BeautifulSoup(response.text, 'html.parser')\n",
    "\n",
    "# Clean unwanted tags\n",
    "for tag in soup([\"script\", \"style\", \"header\", \"footer\", \"nav\"]):\n",
    "    tag.decompose()\n",
    "\n",
    "sections = soup.find_all([\"h2\", \"h3\", \"p\", \"li\"])\n",
    "\n",
    "docs = []\n",
    "for section in sections:\n",
    "    text = section.get_text(strip=True)\n",
    "    if text:\n",
    "        doc = Document(\n",
    "            page_content=text,\n",
    "            metadata={\"source\": url}  # Add section-specific URLs if available\n",
    "        )\n",
    "        docs.append(doc)\n",
    "\n",
    "# Build and save vectorstore\n",
    "embeddings = OpenAIEmbeddings(model=\"text-embedding-3-large\")\n",
    "vectorstore = FAISS.from_documents(docs, embeddings)\n",
    "vectorstore.save_local(\"scam_safety\")\n",
    "\n",
    "print(\"✅ Vectorstore created and saved in 'scam_safety/'\")"
   ]
  },
  {
   "cell_type": "code",
   "execution_count": null,
   "id": "fadeb4e0",
   "metadata": {},
   "outputs": [],
   "source": []
  }
 ],
 "metadata": {
  "kernelspec": {
   "display_name": "Python 3.13 (env)",
   "language": "python",
   "name": "python3.13-env"
  },
  "language_info": {
   "codemirror_mode": {
    "name": "ipython",
    "version": 3
   },
   "file_extension": ".py",
   "mimetype": "text/x-python",
   "name": "python",
   "nbconvert_exporter": "python",
   "pygments_lexer": "ipython3",
   "version": "3.13.0"
  }
 },
 "nbformat": 4,
 "nbformat_minor": 5
}
