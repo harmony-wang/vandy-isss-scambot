{
 "cells": [
  {
   "cell_type": "code",
   "execution_count": 1,
   "id": "07aee372",
   "metadata": {},
   "outputs": [],
   "source": [
    "# ingest_knowledge_base.py\n",
    "import os\n",
    "from langchain.document_loaders import TextLoader\n",
    "from langchain_openai import OpenAIEmbeddings\n",
    "from langchain_community.vectorstores import FAISS\n"
   ]
  },
  {
   "cell_type": "code",
   "execution_count": 6,
   "id": "18e9ddf9",
   "metadata": {},
   "outputs": [
    {
     "name": "stdout",
     "output_type": "stream",
     "text": [
      "✅ Loaded TipstoAvoidBeingScammed.txt\n",
      "✅ Loaded ~$pstoAvoidBeingScammed.txt\n",
      "✅ Loaded CommonTypesofScams.txt\n",
      "✅ Loaded Howtoreportascam.txt\n",
      "✅ Loaded KeyScamIndicators.txt\n",
      "✅ Vectorstore saved to 'basevector'\n"
     ]
    }
   ],
   "source": [
    "docs = []\n",
    "folder_path = \"BaseContext\"\n",
    "\n",
    "for filename in os.listdir(folder_path):\n",
    "    if filename.endswith(\".txt\"):\n",
    "        path = os.path.join(folder_path, filename)\n",
    "        try:\n",
    "            loader = TextLoader(path)\n",
    "            loaded_docs = loader.load()\n",
    "            for doc in loaded_docs:\n",
    "                doc.metadata[\"source\"] = filename\n",
    "            docs.extend(loaded_docs)\n",
    "            print(f\"✅ Loaded {filename}\")\n",
    "        except Exception as e:\n",
    "            print(f\"❌ Failed to load {filename}: {e}\")\n",
    "\n",
    "embeddings = OpenAIEmbeddings(model=\"text-embedding-3-large\")\n",
    "vectorstore = FAISS.from_documents(docs, embeddings)\n",
    "vectorstore.save_local(\"basevector\")\n",
    "print(\"✅ Vectorstore saved to 'basevector'\")"
   ]
  },
  {
   "cell_type": "code",
   "execution_count": null,
   "id": "fadeb4e0",
   "metadata": {},
   "outputs": [],
   "source": []
  }
 ],
 "metadata": {
  "kernelspec": {
   "display_name": "Python 3.13 (env)",
   "language": "python",
   "name": "python3.13-env"
  },
  "language_info": {
   "codemirror_mode": {
    "name": "ipython",
    "version": 3
   },
   "file_extension": ".py",
   "mimetype": "text/x-python",
   "name": "python",
   "nbconvert_exporter": "python",
   "pygments_lexer": "ipython3",
   "version": "3.13.0"
  }
 },
 "nbformat": 4,
 "nbformat_minor": 5
}
